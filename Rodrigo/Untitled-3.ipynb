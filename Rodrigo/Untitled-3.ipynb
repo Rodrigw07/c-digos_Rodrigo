{
 "cells": [
  {
   "cell_type": "markdown",
   "id": "7e4812bc",
   "metadata": {},
   "source": [
    "### CLT"
   ]
  },
  {
   "cell_type": "markdown",
   "id": "b0b2813f",
   "metadata": {},
   "source": [
    "1 salário 1200\n",
    "2 gasolina = 200\n",
    "3 internet = 200\n",
    "4 alimentos = 1500\n",
    "5 agua = 100\n",
    "6 luz = 300\n",
    "7 condominio = 570\n",
    "8 entretenimento = 1200\n",
    "\n",
    "quanto_sobra = ( salario + gasolina )+internet"
   ]
  }
 ],
 "metadata": {
  "language_info": {
   "name": "python"
  }
 },
 "nbformat": 4,
 "nbformat_minor": 5
}
