{
 "cells": [
  {
   "cell_type": "markdown",
   "id": "10a4e19e",
   "metadata": {},
   "source": [
    "### Minha playlist"
   ]
  },
  {
   "cell_type": "code",
   "execution_count": 4,
   "id": "c829af70",
   "metadata": {},
   "outputs": [
    {
     "name": "stdout",
     "output_type": "stream",
     "text": [
      "Mockinbird\n"
     ]
    }
   ],
   "source": [
    "minha_playlist = [\"Lose yourself\", \"Without Me\", \"stan\", \"Mockinbird\", \"Super Man\"  ]\n",
    "print(minha_playlist [-2])"
   ]
  }
 ],
 "metadata": {
  "kernelspec": {
   "display_name": "Python 3",
   "language": "python",
   "name": "python3"
  },
  "language_info": {
   "codemirror_mode": {
    "name": "ipython",
    "version": 3
   },
   "file_extension": ".py",
   "mimetype": "text/x-python",
   "name": "python",
   "nbconvert_exporter": "python",
   "pygments_lexer": "ipython3",
   "version": "3.13.2"
  }
 },
 "nbformat": 4,
 "nbformat_minor": 5
}
