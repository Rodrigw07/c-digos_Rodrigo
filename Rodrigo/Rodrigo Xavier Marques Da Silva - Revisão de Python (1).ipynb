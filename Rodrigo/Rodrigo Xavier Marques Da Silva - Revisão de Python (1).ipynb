{
 "cells": [
  {
   "cell_type": "markdown",
   "id": "790cdba8",
   "metadata": {},
   "source": [
    "### Aula de Python para Iniciantes - Mão na Massa 🐍\n",
    "\"Primeiros Passos em Python - Do Zero ao Primeiro Programa\""
   ]
  },
  {
   "cell_type": "markdown",
   "id": "30dc5e40",
   "metadata": {},
   "source": [
    "**O que é Python?**\n",
    "\n",
    "Linguagem de programação poderosa e fácil de aprender\n",
    "\n",
    "**Usada no YouTube, Instagram, NASA, Netflix**\n",
    "\n",
    "**Ótima para iniciantes*\n"
   ]
  },
  {
   "cell_type": "markdown",
   "id": "dbfc8226",
   "metadata": {},
   "source": [
    "Primeiro Contato:"
   ]
  },
  {
   "cell_type": "code",
   "execution_count": 1,
   "id": "fdfdbe54",
   "metadata": {},
   "outputs": [
    {
     "name": "stdout",
     "output_type": "stream",
     "text": [
      "Hello World!\n",
      "Sejam bem-vindos ao mundo do Python! 🎉\n"
     ]
    }
   ],
   "source": [
    "print(\"Hello World!\")\n",
    "print(\"Sejam bem-vindos ao mundo do Python! 🎉\")"
   ]
  },
  {
   "cell_type": "markdown",
   "id": "21988e6d",
   "metadata": {},
   "source": [
    "### 🖥️ Parte 2: Primeiros Comandos \n",
    "\n",
    "2.1 O Poder do print()"
   ]
  },
  {
   "cell_type": "code",
   "execution_count": 2,
   "id": "b6b868cf",
   "metadata": {},
   "outputs": [
    {
     "name": "stdout",
     "output_type": "stream",
     "text": [
      "Oi, eu sou o Python!\n",
      "Estou aprendendo a programar.\n",
      "Isso é muito legal!\n",
      "eu sou o Rodrigo e tenho 15 anos\n",
      "Meu nome é João e tenho 17 anos\n"
     ]
    }
   ],
   "source": [
    "# Exemplo 1\n",
    "print(\"Oi, eu sou o Python!\")\n",
    "print(\"Estou aprendendo a programar.\")\n",
    "print(\"Isso é muito legal!\")\n",
    "\n",
    "# Exercício 1: Crie um print que mostre seu nome e idade\n",
    "print(\"eu sou o Rodrigo e tenho 15 anos\")\n",
    "\n",
    "# (Exemplo de solução)\n",
    "print(\"Meu nome é João e tenho 17 anos\")"
   ]
  },
  {
   "cell_type": "markdown",
   "id": "af22de51",
   "metadata": {},
   "source": [
    "2.2 Variáveis Simples"
   ]
  },
  {
   "cell_type": "code",
   "execution_count": 5,
   "id": "28d3d22b",
   "metadata": {},
   "outputs": [
    {
     "name": "stdout",
     "output_type": "stream",
     "text": [
      "Maria\n",
      "17\n",
      "meu animal favorito é um cachorro\n",
      "minha ano nascimento é 2010\n"
     ]
    }
   ],
   "source": [
    "# Exemplo 2\n",
    "nome = \"Maria\"\n",
    "idade = 17\n",
    "print(nome)\n",
    "print(idade)\n",
    "\n",
    "# Exercício 2: Crie variáveis para:\n",
    "\n",
    "# - Seu animal favorito\n",
    "animal_favorito = \"cachorro\"\n",
    "\n",
    "# - Seu ano de nascimento\n",
    "ano_nascimento = (\"2010\")\n",
    "\n",
    "# E mostre elas com print\n",
    "print(\"meu animal favorito é um cachorro\")\n",
    "print(\"minha ano nascimento é 2010\")"
   ]
  },
  {
   "cell_type": "markdown",
   "id": "3657d1d7",
   "metadata": {},
   "source": [
    "2.3 Inputs - Conversando com o Usuário\n"
   ]
  },
  {
   "cell_type": "code",
   "execution_count": 8,
   "id": "4f7dd464",
   "metadata": {},
   "outputs": [
    {
     "name": "stdout",
     "output_type": "stream",
     "text": [
      "Olá, Rodrigo ! Bem-vindo ao Python!\n"
     ]
    },
    {
     "data": {
      "text/plain": [
       "'ola meu nome é Rodrigo, meu jogo favorito é Free fire, e eu jogo 2 horas, por semana'"
      ]
     },
     "execution_count": 8,
     "metadata": {},
     "output_type": "execute_result"
    }
   ],
   "source": [
    "# Exemplo 3\n",
    "nome = input(\"Qual é o seu nome? \")\n",
    "print(\"Olá,\", nome, \"! Bem-vindo ao Python!\")\n",
    "\n",
    "# Exercício 3: Faça um programa que pergunte:\n",
    "\n",
    "# - Qual seu jogo favorito\n",
    "jogo_favorito = input(\"qual o seu jogo facvorito?\")\n",
    "# - Quantas horas você joga por semana\n",
    "quantas_horas = input(\"quantas horas voce joga?\")\n",
    "# E depois mostre essas informações\n",
    "(f\"ola meu nome é {nome}, meu jogo favorito é {jogo_favorito}, e eu jogo {quantas_horas}, por semana\")\n"
   ]
  },
  {
   "cell_type": "markdown",
   "id": "1f68646d",
   "metadata": {},
   "source": [
    "\n",
    "\n",
    "\n",
    "\n",
    "\n",
    "\n",
    "\n",
    "\n",
    "\n",
    "\n",
    "\n",
    "\n",
    "\n",
    "\n",
    "\n",
    "\n",
    "\n",
    "\n",
    "\n",
    "\n",
    "\n",
    "\n",
    "\n",
    "\n",
    "\n",
    "\n",
    "### 🎮 Parte 3: Mini-Projetos"
   ]
  },
  {
   "cell_type": "markdown",
   "id": "acfc8f35",
   "metadata": {},
   "source": [
    "Projeto 1: Gerador de Apelidos"
   ]
  },
  {
   "cell_type": "code",
   "execution_count": null,
   "id": "8447908d",
   "metadata": {},
   "outputs": [],
   "source": [
    "print(\"--- Gerador de Apelidos Engraçados ---\")\n",
    "comida = input(\"Qual sua comida favorita? \")\n",
    "animal = input(\"Qual seu animal preferido? \")\n",
    "print(\"Seu apelido poderia ser:\", \"Super \" + comida + \" \" + animal + \"!\")"
   ]
  },
  {
   "cell_type": "markdown",
   "id": "190b0e98",
   "metadata": {},
   "source": [
    "Projeto 2: Calculadora de Idade"
   ]
  },
  {
   "cell_type": "code",
   "execution_count": 6,
   "id": "9b15af62",
   "metadata": {},
   "outputs": [
    {
     "name": "stdout",
     "output_type": "stream",
     "text": [
      "eu tenho 15.0 anos\n"
     ]
    }
   ],
   "source": [
    "ano_atual = float(input(\"qual é o ano atual\"))\n",
    "ano_nascimento = float(input(\"qual é o ano de nascimento ?\"))\n",
    "idade = ano_atual - ano_nascimento\n",
    "print(f\"eu tenho {idade} anos\")"
   ]
  },
  {
   "cell_type": "markdown",
   "id": "27b23eb0",
   "metadata": {},
   "source": [
    "Projeto 3: Quiz Simples"
   ]
  },
  {
   "cell_type": "code",
   "execution_count": 4,
   "id": "86da1065",
   "metadata": {},
   "outputs": [
    {
     "name": "stdout",
     "output_type": "stream",
     "text": [
      "--- Quiz de Programação ---\n",
      "Ops, na verdade é sim! 😊\n"
     ]
    }
   ],
   "source": [
    "print(\"--- Quiz de Programação ---\")\n",
    "resposta = input(\"Python é uma linguagem de programação? (sim/não) \")\n",
    "if resposta == \"sim\":\n",
    "    print(\"Correto! 🎉\")\n",
    "else:\n",
    "    print(\"Ops, na verdade é sim! 😊\")"
   ]
  },
  {
   "cell_type": "markdown",
   "id": "703efc09",
   "metadata": {},
   "source": [
    "### 💡 Parte 4: Desafios "
   ]
  },
  {
   "cell_type": "markdown",
   "id": "8ee84d28",
   "metadata": {},
   "source": [
    "**Desafio 1: Crie um programa que pergunta:**\n",
    "\n",
    "**Dois números favoritos**\n",
    "\n",
    "**Seu signo**\n",
    "\n",
    "\n",
    "**E depois mostra: \"Seu código secreto é: num1 + signo + num2**"
   ]
  },
  {
   "cell_type": "code",
   "execution_count": 18,
   "id": "9949b081",
   "metadata": {},
   "outputs": [
    {
     "name": "stdout",
     "output_type": "stream",
     "text": [
      "seu codigo secreto é 0touro7\n"
     ]
    }
   ],
   "source": [
    "numero1= (input(\"qual seu numero favorito?\"))\n",
    "numero2= (input(\"qual é o segundo numero favorito\"))\n",
    "signo = input(\"qual é o seu signo?\")\n",
    "print(f\"seu codigo secreto é {numero1 + signo + numero2}\")\n"
   ]
  },
  {
   "cell_type": "markdown",
   "id": "b30a44d2",
   "metadata": {},
   "source": [
    "**Desafio 2: Crie uma história maluca que combina 3 inputs do usuário (ex: nome, objeto e lugar)**"
   ]
  },
  {
   "cell_type": "code",
   "execution_count": 14,
   "id": "8f8587bb",
   "metadata": {},
   "outputs": [
    {
     "name": "stdout",
     "output_type": "stream",
     "text": [
      "o Rodrigo, perdeu o aparelho na casa\n"
     ]
    }
   ],
   "source": [
    "nome = input(\"qual o nome da pessoa?\")\n",
    "objeto = input(\"qual o objeto da história?\")\n",
    "lugar = input(\"qual o nome do lugar que a pessoa estava?\")\n",
    "print(f\"o {nome}, perdeu o {objeto} na {lugar}\")\n"
   ]
  },
  {
   "cell_type": "markdown",
   "id": "dbd8c544",
   "metadata": {},
   "source": [
    "### 🌟 Encerramento:\n",
    "\n",
    "Revisão rápida do que aprenderam:\n",
    "\n",
    "**print() para mostrar informações**\n",
    "\n",
    "**input() para receber dados**\n",
    "\n",
    "**Variáveis para guardar valores**\n",
    "\n",
    "**Operações simples**"
   ]
  }
 ],
 "metadata": {
  "kernelspec": {
   "display_name": "Python 3",
   "language": "python",
   "name": "python3"
  },
  "language_info": {
   "codemirror_mode": {
    "name": "ipython",
    "version": 3
   },
   "file_extension": ".py",
   "mimetype": "text/x-python",
   "name": "python",
   "nbconvert_exporter": "python",
   "pygments_lexer": "ipython3",
   "version": "3.13.2"
  }
 },
 "nbformat": 4,
 "nbformat_minor": 5
}
